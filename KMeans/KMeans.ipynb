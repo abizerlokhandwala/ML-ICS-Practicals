{
 "cells": [
  {
   "cell_type": "code",
   "execution_count": 187,
   "metadata": {},
   "outputs": [],
   "source": [
    "import numpy as np\n",
    "import matplotlib.pyplot as plt\n",
    "import math\n",
    "\n",
    "points = [[0.2,0.8],[0.1,0.6],[0.15,0.71],[0.08,0.9],[0.16,0.85],[0.2,0.3],[0.25,0.5],[0.24,0.1],[0.3,0.2]]"
   ]
  },
  {
   "cell_type": "code",
   "execution_count": 188,
   "metadata": {},
   "outputs": [
    {
     "data": {
      "text/plain": [
       "<matplotlib.collections.PathCollection at 0x7f3843b3ef28>"
      ]
     },
     "execution_count": 188,
     "metadata": {},
     "output_type": "execute_result"
    },
    {
     "data": {
      "image/png": "[encoded data removed]",
      "text/plain": [
       "<Figure size 432x288 with 1 Axes>"
      ]
     },
     "metadata": {
      "needs_background": "light"
     },
     "output_type": "display_data"
    }
   ],
   "source": [
    "X = []\n",
    "Y = []\n",
    "for i in points:\n",
    "    X.append(i[0])\n",
    "    Y.append(i[1])\n",
    "plt.scatter(X,Y)"
   ]
  },
  {
   "cell_type": "code",
   "execution_count": 189,
   "metadata": {},
   "outputs": [],
   "source": [
    "class Kmeans:\n",
    "    def __init__(self, k = 2, num_iter = 100):\n",
    "        self.k = k\n",
    "        self.num_iter = num_iter\n",
    "        self.clusters = {}\n",
    "        self.cluster_points = {}\n",
    "        self.labels = []\n",
    "    \n",
    "    def get_distance(self, p, q):\n",
    "        dist = 0\n",
    "        for i in range(len(p)):\n",
    "            dist+=(p[i]-q[i])**2\n",
    "        return math.sqrt(dist)\n",
    "    \n",
    "    def fit(self, points):\n",
    "        #initialize first K points as centroids\n",
    "        for i in range(self.k):\n",
    "            self.clusters[i] = points[i]\n",
    "            \n",
    "        self.labels = [-1]*len(points)\n",
    "            \n",
    "        while(self.num_iter>0):\n",
    "            self.num_iter-=1\n",
    "            \n",
    "            for i in range(self.k):\n",
    "                self.cluster_points[i] = []\n",
    "            \n",
    "            ind = 0\n",
    "            for i in points:\n",
    "                cluster_ind = -1\n",
    "                minn = 999999999\n",
    "                for j in self.clusters:\n",
    "                    dist = self.get_distance(i, self.clusters[j])\n",
    "                    if dist < minn:\n",
    "                        minn = dist\n",
    "                        cluster_ind = j\n",
    "                self.cluster_points[cluster_ind].append(i)\n",
    "                self.labels[ind] = cluster_ind\n",
    "                ind+=1\n",
    "                \n",
    "            for i in self.clusters:\n",
    "                new_point = [0]*len(points[0])\n",
    "                for j in self.cluster_points[i]:\n",
    "                    for p in range(len(j)):\n",
    "                        new_point[p]+=j[p]\n",
    "                if len(self.cluster_points[i])>0:\n",
    "                    for j in range(len(new_point)):\n",
    "                        new_point[j] = new_point[j]/len(self.cluster_points[i])\n",
    "                self.clusters[i] = new_point\n",
    "#             print(self.clusters)        "
   ]
  },
  {
   "cell_type": "code",
   "execution_count": 192,
   "metadata": {},
   "outputs": [
    {
     "name": "stdout",
     "output_type": "stream",
     "text": [
      "Cluster points are: \n",
      "[0.1466666666666667, 0.8500000000000001]\n",
      "[0.24666666666666667, 0.20000000000000004]\n",
      "[0.16666666666666666, 0.6033333333333334]\n"
     ]
    },
    {
     "data": {
      "text/plain": [
       "<matplotlib.collections.PathCollection at 0x7f3843a53080>"
      ]
     },
     "execution_count": 192,
     "metadata": {},
     "output_type": "execute_result"
    },
    {
     "data": {
      "image/png": "[encoded data removed]",
      "text/plain": [
       "<Figure size 432x288 with 1 Axes>"
      ]
     },
     "metadata": {
      "needs_background": "light"
     },
     "output_type": "display_data"
    }
   ],
   "source": [
    "km = Kmeans(k=3,num_iter=100)\n",
    "km.fit(points)\n",
    "my_color = []\n",
    "color_arr = ['b','g','y','orange']\n",
    "for i in range(len(km.labels)):\n",
    "    my_color.append(color_arr[km.labels[i]])\n",
    "\n",
    "cluster_center = km.clusters\n",
    "print(\"Cluster points are: \")\n",
    "for i in cluster_center:\n",
    "    print(cluster_center[i])\n",
    "cluster_x = []\n",
    "cluster_y = []\n",
    "for i in cluster_center:\n",
    "    cluster_x.append(cluster_center[i][0])\n",
    "    cluster_y.append(cluster_center[i][1])\n",
    "plt.scatter(X,Y,color = my_color)\n",
    "plt.scatter(cluster_x,cluster_y,color=\"y\",marker=\"*\",s=100)"
   ]
  },
  {
   "cell_type": "code",
   "execution_count": 196,
   "metadata": {},
   "outputs": [
    {
     "name": "stdout",
     "output_type": "stream",
     "text": [
      "Cluster points are: \n",
      "[0.24666667 0.2       ]\n",
      "[0.1475 0.815 ]\n",
      "[0.175 0.55 ]\n"
     ]
    },
    {
     "data": {
      "text/plain": [
       "<matplotlib.collections.PathCollection at 0x7f38439ceb70>"
      ]
     },
     "execution_count": 196,
     "metadata": {},
     "output_type": "execute_result"
    },
    {
     "data": {
      "image/png": "[encoded data removed]",
      "text/plain": [
       "<Figure size 432x288 with 1 Axes>"
      ]
     },
     "metadata": {
      "needs_background": "light"
     },
     "output_type": "display_data"
    }
   ],
   "source": [
    "from sklearn.cluster import KMeans\n",
    "\n",
    "km = KMeans(n_clusters=3)\n",
    "km.fit(points)\n",
    "my_color = []\n",
    "color_arr = ['b','g','y','orange']\n",
    "for i in range(len(km.labels_)):\n",
    "    my_color.append(color_arr[km.labels_[i]])\n",
    "\n",
    "cluster_center = km.cluster_centers_\n",
    "print(\"Cluster points are: \")\n",
    "for i in cluster_center:\n",
    "    print(i)\n",
    "cluster_x = []\n",
    "cluster_y = []\n",
    "for i in cluster_center:\n",
    "    cluster_x.append(i[0])\n",
    "    cluster_y.append(i[1])\n",
    "plt.scatter(X,Y,color = my_color)\n",
    "plt.scatter(cluster_x,cluster_y,color=\"y\",marker=\"*\",s=100)"
   ]
  },
  {
   "cell_type": "code",
   "execution_count": null,
   "metadata": {},
   "outputs": [],
   "source": []
  }
 ],
 "metadata": {
  "kernelspec": {
   "display_name": "Python 3",
   "language": "python",
   "name": "python3"
  },
  "language_info": {
   "codemirror_mode": {
    "name": "ipython",
    "version": 3
   },
   "file_extension": ".py",
   "mimetype": "text/x-python",
   "name": "python",
   "nbconvert_exporter": "python",
   "pygments_lexer": "ipython3",
   "version": "3.5.2"
  }
 },
 "nbformat": 4,
 "nbformat_minor": 2
}
