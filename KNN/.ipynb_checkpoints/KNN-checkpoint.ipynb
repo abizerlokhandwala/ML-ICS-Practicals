{
 "cells": [
  {
   "cell_type": "code",
   "execution_count": 24,
   "metadata": {},
   "outputs": [
    {
     "name": "stdout",
     "output_type": "stream",
     "text": [
      "   X  Y\n",
      "0  2  4\n",
      "1  4  2\n",
      "2  4  4\n",
      "3  4  6\n",
      "4  6  4\n",
      "5  6  2\n",
      "   Output\n",
      "0       0\n",
      "1       0\n",
      "2       1\n",
      "3       1\n",
      "4       0\n",
      "5       1\n"
     ]
    }
   ],
   "source": [
    "import numpy as np\n",
    "import pandas as pd\n",
    "import matplotlib.pyplot as plt\n",
    "\n",
    "df = pd.read_csv(\"data.csv\")\n",
    "df\n",
    "\n",
    "X = df.iloc[:,0:2]\n",
    "print(X)\n",
    "Y = df.iloc[:,2:]\n",
    "print(Y)"
   ]
  },
  {
   "cell_type": "code",
   "execution_count": 25,
   "metadata": {},
   "outputs": [
    {
     "name": "stdout",
     "output_type": "stream",
     "text": [
      "['y', 'y', 'b', 'b', 'y', 'b']\n"
     ]
    },
    {
     "data": {
      "text/plain": [
       "<matplotlib.collections.PathCollection at 0x7ff04100ec88>"
      ]
     },
     "execution_count": 25,
     "metadata": {},
     "output_type": "execute_result"
    },
    {
     "data": {
      "image/png": "[encoded data removed]",
      "text/plain": [
       "<Figure size 432x288 with 1 Axes>"
      ]
     },
     "metadata": {
      "needs_background": "light"
     },
     "output_type": "display_data"
    }
   ],
   "source": [
    "color = []\n",
    "\n",
    "Y = np.array(Y)\n",
    "\n",
    "for i in Y:\n",
    "    if(i==0):\n",
    "        color.append(\"y\")\n",
    "    else:\n",
    "        color.append(\"b\")\n",
    "        \n",
    "print(color)\n",
    "        \n",
    "plt.scatter(X.iloc[:,0],X.iloc[:,1],color=color)"
   ]
  },
  {
   "cell_type": "code",
   "execution_count": 26,
   "metadata": {},
   "outputs": [
    {
     "name": "stdout",
     "output_type": "stream",
     "text": [
      "Enter X point: \n",
      "6\n",
      "Enter Y point: \n",
      "6\n"
     ]
    }
   ],
   "source": [
    "print(\"Enter X point: \")\n",
    "my_point_x = int(input())\n",
    "print(\"Enter Y point: \")\n",
    "my_point_y = int(input())\n",
    "\n",
    "my_point = [[my_point_x,my_point_y]]\n",
    "\n",
    "k_neighbours = 3"
   ]
  },
  {
   "cell_type": "code",
   "execution_count": 27,
   "metadata": {},
   "outputs": [
    {
     "name": "stdout",
     "output_type": "stream",
     "text": [
      "[1]\n",
      "Predicted Class is Blue\n",
      "   X  Y\n",
      "0  2  4\n",
      "1  4  2\n",
      "2  4  4\n",
      "3  4  6\n",
      "4  6  4\n",
      "5  6  2\n",
      "6  6  6\n"
     ]
    },
    {
     "data": {
      "text/plain": [
       "<matplotlib.collections.PathCollection at 0x7ff040fd0b38>"
      ]
     },
     "execution_count": 27,
     "metadata": {},
     "output_type": "execute_result"
    },
    {
     "data": {
      "image/png": "[encoded data removed]",
      "text/plain": [
       "<Figure size 432x288 with 1 Axes>"
      ]
     },
     "metadata": {
      "needs_background": "light"
     },
     "output_type": "display_data"
    }
   ],
   "source": [
    "from sklearn.neighbors import KNeighborsClassifier\n",
    "\n",
    "kc = KNeighborsClassifier(n_neighbors=k_neighbours, weights=\"uniform\")\n",
    "\n",
    "kc.fit(X,Y.ravel())\n",
    "\n",
    "my_point = np.array(my_point)\n",
    "\n",
    "cl = kc.predict(my_point)\n",
    "print(cl)\n",
    "my_class = \"\"\n",
    "my_color = \"\"\n",
    "\n",
    "if cl==0:\n",
    "    my_class = \"Yellow\"\n",
    "    my_color = \"y\"\n",
    "else: \n",
    "    my_class = \"Blue\"\n",
    "    my_color = \"b\"\n",
    "\n",
    "print(\"Predicted Class is\",my_class)\n",
    "\n",
    "Xtemp = X.copy()\n",
    "Xtemp.loc[X.shape[0]] = [my_point_x,my_point_y]\n",
    "\n",
    "print(Xtemp)\n",
    "\n",
    "temp_color = color.copy()\n",
    "temp_color.append(my_color)\n",
    "\n",
    "plt.scatter(Xtemp.iloc[:,0],Xtemp.iloc[:,1],color=temp_color)\n",
    "# plt.scatter(my_point_x,my_point_y,color=my_color)"
   ]
  },
  {
   "cell_type": "code",
   "execution_count": 28,
   "metadata": {},
   "outputs": [],
   "source": [
    "import math\n",
    "import heapq\n",
    "\n",
    "def EuclidDist(p,q):\n",
    "    return math.sqrt((p[0]-q[0])**2 + (p[1]-q[1])**2)\n",
    "\n",
    "def findNearestK(x,color,y,my_point,k): #Complexity is O(NlogK) by using a max-heap, instead of O(NlogN) by just sorting\n",
    "    X = np.array(x)                     #For O(NlogN) implementation, see findNearestKWeighted function below\n",
    "    Y = np.array(y)\n",
    "    dist_array = []\n",
    "    cntk = 0\n",
    "    for i,j in zip(X,color):\n",
    "        dist = EuclidDist(my_point,i)\n",
    "        if len(dist_array)<k:\n",
    "            heapq.heappush(dist_array,(-dist,j))    #dist_array is a list that is treated as a min-heap, hence inserting a negative value of dist makes the min-heap behave as a max-heap\n",
    "        else:\n",
    "            if dist<-dist_array[0][0]:\n",
    "                heapq.heappop(dist_array)\n",
    "                heapq.heappush(dist_array,(-dist,j))\n",
    "    cntb = 0\n",
    "    cnty = 0\n",
    "    print(dist_array)\n",
    "    for i in range(k):\n",
    "        if dist_array[i][1]=='y':\n",
    "            cnty+=1\n",
    "        else:\n",
    "            cntb+=1\n",
    "    if cnty>cntb:\n",
    "        return 0\n",
    "    else:\n",
    "        return 1\n",
    "    \n",
    "def findNearestKWeighted(x,color,y,my_point,k):\n",
    "    X = np.array(x)\n",
    "    Y = np.array(y)\n",
    "    dist_array = []\n",
    "    for i,j in zip(X,color):\n",
    "        dist = EuclidDist(my_point,i)\n",
    "        dist_array.append((dist,j))\n",
    "    dist_array.sort()\n",
    "    valb = 0\n",
    "    valy = 0\n",
    "    print(dist_array)\n",
    "    for i in range(k):\n",
    "        if dist_array[i][1]=='y':\n",
    "            valy+=1/dist_array[i][0]**2\n",
    "        else:\n",
    "            valb+=1/dist_array[i][0]**2\n",
    "    if valy>valb:\n",
    "        return 0\n",
    "    else:\n",
    "        return 1"
   ]
  },
  {
   "cell_type": "code",
   "execution_count": 29,
   "metadata": {},
   "outputs": [
    {
     "name": "stdout",
     "output_type": "stream",
     "text": [
      "[(-2.8284271247461903, 'b'), (-2.0, 'b'), (-2.0, 'y')]\n",
      "Predicted Class is Blue\n",
      "   X  Y\n",
      "0  2  4\n",
      "1  4  2\n",
      "2  4  4\n",
      "3  4  6\n",
      "4  6  4\n",
      "5  6  2\n",
      "6  6  6\n"
     ]
    },
    {
     "data": {
      "text/plain": [
       "<matplotlib.collections.PathCollection at 0x7ff041103ef0>"
      ]
     },
     "execution_count": 29,
     "metadata": {},
     "output_type": "execute_result"
    },
    {
     "data": {
      "image/png": "[encoded data removed]",
      "text/plain": [
       "<Figure size 432x288 with 1 Axes>"
      ]
     },
     "metadata": {
      "needs_background": "light"
     },
     "output_type": "display_data"
    }
   ],
   "source": [
    "my_point_class = findNearestK(X,color,Y,my_point[0],k_neighbours)\n",
    "\n",
    "if my_point_class==0:\n",
    "    my_class = \"Yellow\"\n",
    "    my_color = \"y\"\n",
    "else:\n",
    "    my_class = \"Blue\"\n",
    "    my_color = \"b\"\n",
    "\n",
    "print(\"Predicted Class is\",my_class)\n",
    "\n",
    "Xtemp = X.copy()\n",
    "Xtemp.loc[X.shape[0]] = [my_point_x,my_point_y]\n",
    "\n",
    "print(Xtemp)\n",
    "\n",
    "temp_color = color.copy()\n",
    "temp_color.append(my_color)\n",
    "\n",
    "plt.scatter(Xtemp.iloc[:,0],Xtemp.iloc[:,1],color=temp_color)\n"
   ]
  },
  {
   "cell_type": "code",
   "execution_count": null,
   "metadata": {},
   "outputs": [],
   "source": []
  },
  {
   "cell_type": "code",
   "execution_count": null,
   "metadata": {},
   "outputs": [],
   "source": []
  }
 ],
 "metadata": {
  "kernelspec": {
   "display_name": "Python 3",
   "language": "python",
   "name": "python3"
  },
  "language_info": {
   "codemirror_mode": {
    "name": "ipython",
    "version": 3
   },
   "file_extension": ".py",
   "mimetype": "text/x-python",
   "name": "python",
   "nbconvert_exporter": "python",
   "pygments_lexer": "ipython3",
   "version": "3.5.2"
  }
 },
 "nbformat": 4,
 "nbformat_minor": 2
}
