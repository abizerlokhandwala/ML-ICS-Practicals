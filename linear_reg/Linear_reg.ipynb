{
 "cells": [
  {
   "cell_type": "code",
   "execution_count": 32,
   "metadata": {},
   "outputs": [
    {
     "data": {
      "image/png": "[encoded data removed]",
      "text/plain": [
       "<Figure size 432x288 with 1 Axes>"
      ]
     },
     "metadata": {
      "needs_background": "light"
     },
     "output_type": "display_data"
    }
   ],
   "source": [
    "import matplotlib.pyplot as plt\n",
    "import numpy as np\n",
    "\n",
    "X = np.array([10,9,2,15,10,16,11,16])\n",
    "Y = np.array([95,80,10,50,45,98,38,93])\n",
    "\n",
    "plt.scatter(X,Y,color=\"b\",marker=\"*\")\n",
    "plt.show()"
   ]
  },
  {
   "cell_type": "code",
   "execution_count": 15,
   "metadata": {},
   "outputs": [],
   "source": [
    "def find_coef(x,y):\n",
    "    N = x.shape[0]\n",
    "    X_mean = np.mean(x)\n",
    "    Y_mean = np.mean(y)\n",
    "    SS_xy = np.sum(x*y) - N*X_mean*Y_mean\n",
    "    SS_xx = np.sum(x*x) - N*X_mean*X_mean\n",
    "\n",
    "    b1 = SS_xy/SS_xx\n",
    "    b0 = Y_mean - b1*X_mean\n",
    "    \n",
    "    return (b0,b1)"
   ]
  },
  {
   "cell_type": "code",
   "execution_count": 48,
   "metadata": {},
   "outputs": [
    {
     "name": "stdout",
     "output_type": "stream",
     "text": [
      "The Regression Equation is: y = 12.584627964022893 + 4.58789860997547x"
     ]
    },
    {
     "data": {
      "text/plain": [
       "[<matplotlib.lines.Line2D at 0x7f734395c898>]"
      ]
     },
     "execution_count": 48,
     "metadata": {},
     "output_type": "execute_result"
    },
    {
     "data": {
      "image/png": "[encoded data removed]",
      "text/plain": [
       "<Figure size 432x288 with 1 Axes>"
      ]
     },
     "metadata": {
      "needs_background": "light"
     },
     "output_type": "display_data"
    }
   ],
   "source": [
    "b = find_coef(X,Y)\n",
    "print(\"The Regression Equation is: y = \"+str(b[0])+\" + \"+str(b[1])+\"x\",end=\"\")\n",
    "\n",
    "Y_pred = b[0] + b[1]*X\n",
    "\n",
    "plt.scatter(X,Y,color=\"b\", marker=\"*\")\n",
    "plt.plot(X,Y_pred, color=\"r\")"
   ]
  },
  {
   "cell_type": "code",
   "execution_count": 50,
   "metadata": {},
   "outputs": [
    {
     "name": "stdout",
     "output_type": "stream",
     "text": [
      "The Regression Equation is: y = [12.58462796] + [4.58789861]x"
     ]
    },
    {
     "data": {
      "text/plain": [
       "[<matplotlib.lines.Line2D at 0x7f7343a7fda0>]"
      ]
     },
     "execution_count": 50,
     "metadata": {},
     "output_type": "execute_result"
    },
    {
     "data": {
      "image/png": "[encoded data removed]",
      "text/plain": [
       "<Figure size 432x288 with 1 Axes>"
      ]
     },
     "metadata": {
      "needs_background": "light"
     },
     "output_type": "display_data"
    }
   ],
   "source": [
    "X = X.reshape(-1,1)\n",
    "Y = Y.reshape(-1,1)\n",
    "\n",
    "from sklearn.linear_model import LinearRegression\n",
    "\n",
    "lr = LinearRegression()\n",
    "lr.fit(X,Y)\n",
    "\n",
    "Ym_pred = lr.predict(X)\n",
    "\n",
    "print(\"The Regression Equation is: y = \"+str(lr.intercept_)+\" + \"+str(lr.coef_[0])+\"x\",end=\"\")\n",
    "\n",
    "plt.scatter(X,Y,color=\"b\", marker=\"*\")\n",
    "plt.plot(X,Ym_pred,color=\"g\")"
   ]
  },
  {
   "cell_type": "code",
   "execution_count": 46,
   "metadata": {},
   "outputs": [
    {
     "name": "stdout",
     "output_type": "stream",
     "text": [
      "Hence, both the lines are the same (library vs implemented)\n"
     ]
    }
   ],
   "source": [
    "print(\"Hence, both the lines are the same (library vs implemented)\")"
   ]
  },
  {
   "cell_type": "code",
   "execution_count": null,
   "metadata": {},
   "outputs": [],
   "source": []
  }
 ],
 "metadata": {
  "kernelspec": {
   "display_name": "Python 3",
   "language": "python",
   "name": "python3"
  },
  "language_info": {
   "codemirror_mode": {
    "name": "ipython",
    "version": 3
   },
   "file_extension": ".py",
   "mimetype": "text/x-python",
   "name": "python",
   "nbconvert_exporter": "python",
   "pygments_lexer": "ipython3",
   "version": "3.5.2"
  }
 },
 "nbformat": 4,
 "nbformat_minor": 2
}
