{
 "cells": [
  {
   "cell_type": "code",
   "execution_count": 2,
   "metadata": {},
   "outputs": [],
   "source": [
    "import numpy as np\n",
    "import matplotlib.pyplot as plt\n",
    "import math\n",
    "\n",
    "points = [[0.2,0.8],[0.1,0.6],[0.15,0.71],[0.08,0.9],[0.16,0.85],[0.2,0.3],[0.25,0.5],[0.24,0.1],[0.3,0.2]]"
   ]
  },
  {
   "cell_type": "code",
   "execution_count": 3,
   "metadata": {},
   "outputs": [
    {
     "data": {
      "text/plain": [
       "<matplotlib.collections.PathCollection at 0x7f40542ff8d0>"
      ]
     },
     "execution_count": 3,
     "metadata": {},
     "output_type": "execute_result"
    },
    {
     "data": {
      "image/png": "[encoded data removed]",
      "text/plain": [
       "<Figure size 432x288 with 1 Axes>"
      ]
     },
     "metadata": {
      "needs_background": "light"
     },
     "output_type": "display_data"
    }
   ],
   "source": [
    "X = []\n",
    "Y = []\n",
    "for i in points:\n",
    "    X.append(i[0])\n",
    "    Y.append(i[1])\n",
    "plt.scatter(X,Y)"
   ]
  },
  {
   "cell_type": "code",
   "execution_count": 4,
   "metadata": {},
   "outputs": [],
   "source": [
    "class Kmeans:\n",
    "    def __init__(self, k = 2, num_iter = 100):\n",
    "        self.k = k\n",
    "        self.num_iter = num_iter\n",
    "        self.clusters = {}\n",
    "        self.cluster_points = {}\n",
    "        self.labels = []\n",
    "    \n",
    "    def get_distance(self, p, q):\n",
    "        dist = 0\n",
    "        for i in range(len(p)):\n",
    "            dist+=(p[i]-q[i])**2\n",
    "        return math.sqrt(dist)\n",
    "    \n",
    "    def fit(self, points):\n",
    "        #initialize first K points as centroids\n",
    "        for i in range(self.k):\n",
    "            self.clusters[i] = points[i]\n",
    "            \n",
    "        self.labels = [-1]*len(points)\n",
    "            \n",
    "        while(self.num_iter>0):\n",
    "            self.num_iter-=1\n",
    "            \n",
    "            for i in range(self.k):\n",
    "                self.cluster_points[i] = []\n",
    "            \n",
    "            ind = 0\n",
    "            for i in points:\n",
    "                cluster_ind = -1\n",
    "                minn = 999999999\n",
    "                for j in self.clusters:\n",
    "                    dist = self.get_distance(i, self.clusters[j])\n",
    "                    if dist < minn:\n",
    "                        minn = dist\n",
    "                        cluster_ind = j\n",
    "                self.cluster_points[cluster_ind].append(i)\n",
    "                self.labels[ind] = cluster_ind\n",
    "                ind+=1\n",
    "                \n",
    "            new_centroids = {}\n",
    "            \n",
    "            for i in self.clusters:\n",
    "                new_point = [0]*len(points[0])\n",
    "                for j in self.cluster_points[i]:\n",
    "                    for p in range(len(j)):\n",
    "                        new_point[p]+=j[p]\n",
    "                if len(self.cluster_points[i])>0:\n",
    "                    for j in range(len(new_point)):\n",
    "                        new_point[j] = new_point[j]/len(self.cluster_points[i])\n",
    "                new_centroids[i] = new_point\n",
    "            \n",
    "            if self.num_iter>0:\n",
    "                self.clusters = new_centroids\n",
    "#             print(self.clusters)        "
   ]
  },
  {
   "cell_type": "code",
   "execution_count": 19,
   "metadata": {},
   "outputs": [
    {
     "name": "stdout",
     "output_type": "stream",
     "text": [
      "Cluster points are: \n",
      "[0.138, 0.772]\n",
      "[0.2475, 0.275]\n",
      "Final Centroids with points:\n"
     ]
    },
    {
     "data": {
      "image/png": "[encoded data removed]",
      "text/plain": [
       "<Figure size 432x288 with 1 Axes>"
      ]
     },
     "metadata": {
      "needs_background": "light"
     },
     "output_type": "display_data"
    },
    {
     "name": "stdout",
     "output_type": "stream",
     "text": [
      "Centroids per iteration:\n",
      "Iteration 1\n",
      "Cluster points are: \n",
      "[0.2, 0.8]\n",
      "[0.1, 0.6]\n"
     ]
    },
    {
     "data": {
      "image/png": "[encoded data removed]",
      "text/plain": [
       "<Figure size 432x288 with 1 Axes>"
      ]
     },
     "metadata": {
      "needs_background": "light"
     },
     "output_type": "display_data"
    },
    {
     "name": "stdout",
     "output_type": "stream",
     "text": [
      "Iteration 2\n",
      "Cluster points are: \n",
      "[0.1475, 0.8150000000000001]\n",
      "[0.21800000000000003, 0.33999999999999997]\n"
     ]
    },
    {
     "data": {
      "image/png": "[encoded data removed]",
      "text/plain": [
       "<Figure size 432x288 with 1 Axes>"
      ]
     },
     "metadata": {
      "needs_background": "light"
     },
     "output_type": "display_data"
    },
    {
     "name": "stdout",
     "output_type": "stream",
     "text": [
      "Iteration 3\n",
      "Cluster points are: \n",
      "[0.138, 0.772]\n",
      "[0.2475, 0.275]\n"
     ]
    },
    {
     "data": {
      "image/png": "[encoded data removed]",
      "text/plain": [
       "<Figure size 432x288 with 1 Axes>"
      ]
     },
     "metadata": {
      "needs_background": "light"
     },
     "output_type": "display_data"
    }
   ],
   "source": [
    "my_color = []\n",
    "color_arr = ['b','g','y','orange']\n",
    "km = Kmeans(k=2,num_iter=100)\n",
    "km.fit(points)\n",
    "for i in range(len(km.labels)):\n",
    "    my_color.append(color_arr[km.labels[i]])\n",
    "\n",
    "cluster_center = km.clusters\n",
    "print(\"Cluster points are: \")\n",
    "for i in cluster_center:\n",
    "    print(cluster_center[i])\n",
    "cluster_x = []\n",
    "cluster_y = []\n",
    "for i in cluster_center:\n",
    "    cluster_x.append(cluster_center[i][0])\n",
    "    cluster_y.append(cluster_center[i][1])\n",
    "\n",
    "print(\"Final Centroids with points:\")\n",
    "plt.scatter(X,Y,color = my_color)\n",
    "plt.scatter(cluster_x,cluster_y,color=color_arr,marker=\"*\",s=100)\n",
    "plt.show()\n",
    "\n",
    "#To display the centroid development process\n",
    "print(\"Centroids per iteration:\")\n",
    "for i in range(1,4):\n",
    "    print(\"Iteration\",i)\n",
    "    km = Kmeans(k=2,num_iter=i)\n",
    "    km.fit(points)\n",
    "    for i in range(len(km.labels)):\n",
    "        my_color.append(color_arr[km.labels[i]])\n",
    "\n",
    "    cluster_center = km.clusters\n",
    "    print(\"Cluster points are: \")\n",
    "    for i in cluster_center:\n",
    "        print(cluster_center[i])\n",
    "    cluster_x = []\n",
    "    cluster_y = []\n",
    "    for i in cluster_center:\n",
    "        cluster_x.append(cluster_center[i][0])\n",
    "        cluster_y.append(cluster_center[i][1])\n",
    "    plt.scatter(X,Y,color = my_color)\n",
    "    plt.scatter(cluster_x,cluster_y,color='y',marker=\"*\",s=100)\n",
    "    plt.show()"
   ]
  },
  {
   "cell_type": "code",
   "execution_count": 31,
   "metadata": {},
   "outputs": [
    {
     "name": "stdout",
     "output_type": "stream",
     "text": [
      "Cluster points are: \n",
      "[0.138 0.772]\n",
      "[0.2475 0.275 ]\n"
     ]
    },
    {
     "data": {
      "text/plain": [
       "<matplotlib.collections.PathCollection at 0x7fb2d4d86358>"
      ]
     },
     "execution_count": 31,
     "metadata": {},
     "output_type": "execute_result"
    },
    {
     "data": {
      "image/png": "[encoded data removed]",
      "text/plain": [
       "<Figure size 432x288 with 1 Axes>"
      ]
     },
     "metadata": {
      "needs_background": "light"
     },
     "output_type": "display_data"
    }
   ],
   "source": [
    "from sklearn.cluster import KMeans\n",
    "\n",
    "km = KMeans(n_clusters=2)\n",
    "km.fit(points)\n",
    "my_color = []\n",
    "color_arr = ['b','g','y','orange']\n",
    "for i in range(len(km.labels_)):\n",
    "    my_color.append(color_arr[km.labels_[i]])\n",
    "\n",
    "cluster_center = km.cluster_centers_\n",
    "print(\"Cluster points are: \")\n",
    "for i in cluster_center:\n",
    "    print(i)\n",
    "cluster_x = []\n",
    "cluster_y = []\n",
    "for i in cluster_center:\n",
    "    cluster_x.append(i[0])\n",
    "    cluster_y.append(i[1])\n",
    "plt.scatter(X,Y,color = my_color)\n",
    "plt.scatter(cluster_x,cluster_y,color=\"y\",marker=\"*\",s=100)"
   ]
  },
  {
   "cell_type": "code",
   "execution_count": null,
   "metadata": {},
   "outputs": [],
   "source": []
  },
  {
   "cell_type": "code",
   "execution_count": null,
   "metadata": {},
   "outputs": [],
   "source": []
  }
 ],
 "metadata": {
  "kernelspec": {
   "display_name": "Python 3",
   "language": "python",
   "name": "python3"
  },
  "language_info": {
   "codemirror_mode": {
    "name": "ipython",
    "version": 3
   },
   "file_extension": ".py",
   "mimetype": "text/x-python",
   "name": "python",
   "nbconvert_exporter": "python",
   "pygments_lexer": "ipython3",
   "version": "3.5.2"
  }
 },
 "nbformat": 4,
 "nbformat_minor": 2
}
